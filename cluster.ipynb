{
 "cells": [
  {
   "cell_type": "code",
   "execution_count": 130,
   "metadata": {
    "id": "COtG7dEvimIw"
   },
   "outputs": [],
   "source": [
    "import pandas as pd\n",
    "import numpy as np\n",
    "from sklearn.feature_extraction.text import CountVectorizer\n",
    "from sklearn.cluster import KMeans\n",
    "from sklearn import metrics"
   ]
  },
  {
   "cell_type": "code",
   "execution_count": 131,
   "metadata": {
    "id": "mao_1DWfp2ai"
   },
   "outputs": [],
   "source": [
    "import warnings\n",
    "warnings.filterwarnings(\"ignore\")   # отключает предупреждения"
   ]
  },
  {
   "cell_type": "markdown",
   "metadata": {
    "id": "9qQ-qi-BP7_m"
   },
   "source": [
    "# считываю файл csv"
   ]
  },
  {
   "cell_type": "code",
   "execution_count": 132,
   "metadata": {
    "colab": {
     "base_uri": "https://localhost:8080/",
     "height": 390
    },
    "id": "L1__VGx_i1ce",
    "outputId": "4a8ace44-be3b-4c9d-a4d0-07f542b4e64e"
   },
   "outputs": [
    {
     "data": {
      "text/html": [
       "\n",
       "  <div id=\"df-985a12c9-f491-4150-8bcc-f1a082233e2e\">\n",
       "    <div class=\"colab-df-container\">\n",
       "      <div>\n",
       "<style scoped>\n",
       "    .dataframe tbody tr th:only-of-type {\n",
       "        vertical-align: middle;\n",
       "    }\n",
       "\n",
       "    .dataframe tbody tr th {\n",
       "        vertical-align: top;\n",
       "    }\n",
       "\n",
       "    .dataframe thead th {\n",
       "        text-align: right;\n",
       "    }\n",
       "</style>\n",
       "<table border=\"1\" class=\"dataframe\">\n",
       "  <thead>\n",
       "    <tr style=\"text-align: right;\">\n",
       "      <th></th>\n",
       "      <th>journal</th>\n",
       "      <th>title</th>\n",
       "      <th>ISSN</th>\n",
       "      <th>DOI</th>\n",
       "      <th>authors</th>\n",
       "      <th>affilations</th>\n",
       "      <th>date</th>\n",
       "      <th>pages</th>\n",
       "      <th>abstract</th>\n",
       "      <th>raw_url</th>\n",
       "      <th>keywords</th>\n",
       "    </tr>\n",
       "  </thead>\n",
       "  <tbody>\n",
       "    <tr>\n",
       "      <th>0</th>\n",
       "      <td>International Journal of Fluid Power</td>\n",
       "      <td>Novel concept for stabilising a hydraulic circ...</td>\n",
       "      <td>2332-1180</td>\n",
       "      <td>10.1080/14399776.2016.1172446</td>\n",
       "      <td>['Jesper K. Sørensen', 'Michael R. Hansen', 'M...</td>\n",
       "      <td>['Faculty of Engineering and Science, Departme...</td>\n",
       "      <td>2016-11-01</td>\n",
       "      <td>NaN</td>\n",
       "      <td>In this paper, a novel concept for stabilising...</td>\n",
       "      <td>https://journals.riverpublishers.com/index.php...</td>\n",
       "      <td>['Oscillations', 'counterbalance valve', 'pres...</td>\n",
       "    </tr>\n",
       "    <tr>\n",
       "      <th>1</th>\n",
       "      <td>International Journal of Fluid Power</td>\n",
       "      <td>Open-loop Independent Metering Control of a Mu...</td>\n",
       "      <td>2332-1180</td>\n",
       "      <td>10.13052/ijfp1439-9776.2121</td>\n",
       "      <td>['Mikko  Huova', 'Jyrki  Tammisto', 'Matti  Li...</td>\n",
       "      <td>['Automation Technology and Mechanical Enginee...</td>\n",
       "      <td>2020-11-04</td>\n",
       "      <td>147–168</td>\n",
       "      <td>This study applies independent metering contro...</td>\n",
       "      <td>https://journals.riverpublishers.com/index.php...</td>\n",
       "      <td>['independent metering', 'forwarder', 'energy ...</td>\n",
       "    </tr>\n",
       "    <tr>\n",
       "      <th>2</th>\n",
       "      <td>International Journal of Fluid Power</td>\n",
       "      <td>Modelling and experimental validation of the d...</td>\n",
       "      <td>2332-1180</td>\n",
       "      <td>10.1080/14399776.2016.1160718</td>\n",
       "      <td>['Anthony L. Knutson', 'James D. Van de Ven']</td>\n",
       "      <td>['Department of Mechanical Engineering, Univer...</td>\n",
       "      <td>2016-08-01</td>\n",
       "      <td>114-124</td>\n",
       "      <td>A variety of methods have previously been appl...</td>\n",
       "      <td>https://journals.riverpublishers.com/index.php...</td>\n",
       "      <td>['Hydraulic valve', 'check valve', 'laser tria...</td>\n",
       "    </tr>\n",
       "  </tbody>\n",
       "</table>\n",
       "</div>\n",
       "      <button class=\"colab-df-convert\" onclick=\"convertToInteractive('df-985a12c9-f491-4150-8bcc-f1a082233e2e')\"\n",
       "              title=\"Convert this dataframe to an interactive table.\"\n",
       "              style=\"display:none;\">\n",
       "        \n",
       "  <svg xmlns=\"http://www.w3.org/2000/svg\" height=\"24px\"viewBox=\"0 0 24 24\"\n",
       "       width=\"24px\">\n",
       "    <path d=\"M0 0h24v24H0V0z\" fill=\"none\"/>\n",
       "    <path d=\"M18.56 5.44l.94 2.06.94-2.06 2.06-.94-2.06-.94-.94-2.06-.94 2.06-2.06.94zm-11 1L8.5 8.5l.94-2.06 2.06-.94-2.06-.94L8.5 2.5l-.94 2.06-2.06.94zm10 10l.94 2.06.94-2.06 2.06-.94-2.06-.94-.94-2.06-.94 2.06-2.06.94z\"/><path d=\"M17.41 7.96l-1.37-1.37c-.4-.4-.92-.59-1.43-.59-.52 0-1.04.2-1.43.59L10.3 9.45l-7.72 7.72c-.78.78-.78 2.05 0 2.83L4 21.41c.39.39.9.59 1.41.59.51 0 1.02-.2 1.41-.59l7.78-7.78 2.81-2.81c.8-.78.8-2.07 0-2.86zM5.41 20L4 18.59l7.72-7.72 1.47 1.35L5.41 20z\"/>\n",
       "  </svg>\n",
       "      </button>\n",
       "      \n",
       "  <style>\n",
       "    .colab-df-container {\n",
       "      display:flex;\n",
       "      flex-wrap:wrap;\n",
       "      gap: 12px;\n",
       "    }\n",
       "\n",
       "    .colab-df-convert {\n",
       "      background-color: #E8F0FE;\n",
       "      border: none;\n",
       "      border-radius: 50%;\n",
       "      cursor: pointer;\n",
       "      display: none;\n",
       "      fill: #1967D2;\n",
       "      height: 32px;\n",
       "      padding: 0 0 0 0;\n",
       "      width: 32px;\n",
       "    }\n",
       "\n",
       "    .colab-df-convert:hover {\n",
       "      background-color: #E2EBFA;\n",
       "      box-shadow: 0px 1px 2px rgba(60, 64, 67, 0.3), 0px 1px 3px 1px rgba(60, 64, 67, 0.15);\n",
       "      fill: #174EA6;\n",
       "    }\n",
       "\n",
       "    [theme=dark] .colab-df-convert {\n",
       "      background-color: #3B4455;\n",
       "      fill: #D2E3FC;\n",
       "    }\n",
       "\n",
       "    [theme=dark] .colab-df-convert:hover {\n",
       "      background-color: #434B5C;\n",
       "      box-shadow: 0px 1px 3px 1px rgba(0, 0, 0, 0.15);\n",
       "      filter: drop-shadow(0px 1px 2px rgba(0, 0, 0, 0.3));\n",
       "      fill: #FFFFFF;\n",
       "    }\n",
       "  </style>\n",
       "\n",
       "      <script>\n",
       "        const buttonEl =\n",
       "          document.querySelector('#df-985a12c9-f491-4150-8bcc-f1a082233e2e button.colab-df-convert');\n",
       "        buttonEl.style.display =\n",
       "          google.colab.kernel.accessAllowed ? 'block' : 'none';\n",
       "\n",
       "        async function convertToInteractive(key) {\n",
       "          const element = document.querySelector('#df-985a12c9-f491-4150-8bcc-f1a082233e2e');\n",
       "          const dataTable =\n",
       "            await google.colab.kernel.invokeFunction('convertToInteractive',\n",
       "                                                     [key], {});\n",
       "          if (!dataTable) return;\n",
       "\n",
       "          const docLinkHtml = 'Like what you see? Visit the ' +\n",
       "            '<a target=\"_blank\" href=https://colab.research.google.com/notebooks/data_table.ipynb>data table notebook</a>'\n",
       "            + ' to learn more about interactive tables.';\n",
       "          element.innerHTML = '';\n",
       "          dataTable['output_type'] = 'display_data';\n",
       "          await google.colab.output.renderOutput(dataTable, element);\n",
       "          const docLink = document.createElement('div');\n",
       "          docLink.innerHTML = docLinkHtml;\n",
       "          element.appendChild(docLink);\n",
       "        }\n",
       "      </script>\n",
       "    </div>\n",
       "  </div>\n",
       "  "
      ],
      "text/plain": [
       "                                journal  \\\n",
       "0  International Journal of Fluid Power   \n",
       "1  International Journal of Fluid Power   \n",
       "2  International Journal of Fluid Power   \n",
       "\n",
       "                                               title       ISSN  \\\n",
       "0  Novel concept for stabilising a hydraulic circ...  2332-1180   \n",
       "1  Open-loop Independent Metering Control of a Mu...  2332-1180   \n",
       "2  Modelling and experimental validation of the d...  2332-1180   \n",
       "\n",
       "                             DOI  \\\n",
       "0  10.1080/14399776.2016.1172446   \n",
       "1    10.13052/ijfp1439-9776.2121   \n",
       "2  10.1080/14399776.2016.1160718   \n",
       "\n",
       "                                             authors  \\\n",
       "0  ['Jesper K. Sørensen', 'Michael R. Hansen', 'M...   \n",
       "1  ['Mikko  Huova', 'Jyrki  Tammisto', 'Matti  Li...   \n",
       "2      ['Anthony L. Knutson', 'James D. Van de Ven']   \n",
       "\n",
       "                                         affilations        date    pages  \\\n",
       "0  ['Faculty of Engineering and Science, Departme...  2016-11-01      NaN   \n",
       "1  ['Automation Technology and Mechanical Enginee...  2020-11-04  147–168   \n",
       "2  ['Department of Mechanical Engineering, Univer...  2016-08-01  114-124   \n",
       "\n",
       "                                            abstract  \\\n",
       "0  In this paper, a novel concept for stabilising...   \n",
       "1  This study applies independent metering contro...   \n",
       "2  A variety of methods have previously been appl...   \n",
       "\n",
       "                                             raw_url  \\\n",
       "0  https://journals.riverpublishers.com/index.php...   \n",
       "1  https://journals.riverpublishers.com/index.php...   \n",
       "2  https://journals.riverpublishers.com/index.php...   \n",
       "\n",
       "                                            keywords  \n",
       "0  ['Oscillations', 'counterbalance valve', 'pres...  \n",
       "1  ['independent metering', 'forwarder', 'energy ...  \n",
       "2  ['Hydraulic valve', 'check valve', 'laser tria...  "
      ]
     },
     "execution_count": 132,
     "metadata": {},
     "output_type": "execute_result"
    }
   ],
   "source": [
    "data = pd.read_csv('/content/output_river.csv').drop('Unnamed: 0', axis = 1) # делаю drop первой колонки\n",
    "data.head(3) "
   ]
  },
  {
   "cell_type": "code",
   "execution_count": 133,
   "metadata": {
    "colab": {
     "base_uri": "https://localhost:8080/",
     "height": 71
    },
    "id": "niwPLzoTPxcm",
    "outputId": "6f8ad4bd-b915-4bfa-9af8-17c5968fe0d3"
   },
   "outputs": [
    {
     "data": {
      "application/vnd.google.colaboratory.intrinsic+json": {
       "type": "string"
      },
      "text/plain": [
       "\"['Faculty of Engineering and Science, Department of Engineering Sciences, University of Agder, Grimstad, Norway', 'Faculty of Engineering and Science, Department of Engineering Sciences, University of Agder, Grimstad, Norway', 'Faculty of Engineering and Science, Department of Engineering Sciences, University of Agder, Grimstad, Norway']\""
      ]
     },
     "execution_count": 133,
     "metadata": {},
     "output_type": "execute_result"
    }
   ],
   "source": [
    "data['affilations'][0]   # хранится str"
   ]
  },
  {
   "cell_type": "markdown",
   "metadata": {
    "id": "M3cUN1_NP3nK"
   },
   "source": [
    "# меняю формат кононки affilations"
   ]
  },
  {
   "cell_type": "code",
   "execution_count": 134,
   "metadata": {
    "id": "lQZ4aiL3PExA"
   },
   "outputs": [],
   "source": [
    "import ast"
   ]
  },
  {
   "cell_type": "code",
   "execution_count": 135,
   "metadata": {
    "id": "c95Cebh6LWWw"
   },
   "outputs": [],
   "source": [
    "data['affilations'] = data['affilations'].apply(lambda x: ast.literal_eval(x))  # из строки делаю список строк"
   ]
  },
  {
   "cell_type": "code",
   "execution_count": 136,
   "metadata": {
    "id": "YnRblo0ImAII"
   },
   "outputs": [],
   "source": [
    "data['affilations'] = data['affilations'].apply(lambda x: list(map(lambda y: y.strip(), x)))  # очищаю строки от пробелов по краям "
   ]
  },
  {
   "cell_type": "code",
   "execution_count": 137,
   "metadata": {
    "id": "zc_cD7qllvOo"
   },
   "outputs": [],
   "source": [
    "data['affilations'] = data['affilations'].apply(lambda x: list(set(x)))   # удаляю повторяющиеся аффиляции "
   ]
  },
  {
   "cell_type": "code",
   "execution_count": 138,
   "metadata": {
    "colab": {
     "base_uri": "https://localhost:8080/"
    },
    "id": "Celd-jfdi1hF",
    "outputId": "58f43b1e-72d8-4990-e3f4-78fc6c1e37c8"
   },
   "outputs": [
    {
     "data": {
      "text/plain": [
       "['Faculty of Engineering and Science, Department of Engineering Sciences, University of Agder, Grimstad, Norway']"
      ]
     },
     "execution_count": 138,
     "metadata": {},
     "output_type": "execute_result"
    }
   ],
   "source": [
    "data['affilations'][0]"
   ]
  },
  {
   "cell_type": "code",
   "execution_count": 139,
   "metadata": {
    "colab": {
     "base_uri": "https://localhost:8080/"
    },
    "id": "t2_cTbApPr8-",
    "outputId": "7f23cc9e-4e49-411b-9b5e-ee93acf7ed73"
   },
   "outputs": [
    {
     "data": {
      "text/plain": [
       "journal         0\n",
       "title           0\n",
       "ISSN            0\n",
       "DOI            72\n",
       "authors         0\n",
       "affilations     0\n",
       "date            0\n",
       "pages          21\n",
       "abstract        0\n",
       "raw_url         0\n",
       "keywords        0\n",
       "dtype: int64"
      ]
     },
     "execution_count": 139,
     "metadata": {},
     "output_type": "execute_result"
    }
   ],
   "source": [
    "data.isna().sum()   # с аффиляциями все в порядке"
   ]
  },
  {
   "cell_type": "code",
   "execution_count": 140,
   "metadata": {
    "id": "u5bNJi-oS8z4"
   },
   "outputs": [],
   "source": [
    "import seaborn as sns"
   ]
  },
  {
   "cell_type": "code",
   "execution_count": 141,
   "metadata": {
    "colab": {
     "base_uri": "https://localhost:8080/",
     "height": 430
    },
    "id": "ooBQIIe0LXCT",
    "outputId": "b34762c7-79a8-4231-95f9-2a7473a12f8d"
   },
   "outputs": [
    {
     "data": {
      "image/png": "[encoded data removed]",
      "text/plain": [
       "<Figure size 640x480 with 1 Axes>"
      ]
     },
     "metadata": {},
     "output_type": "display_data"
    }
   ],
   "source": [
    "sns.scatterplot(data['affilations'].apply(len));  # диаграмма рассеивания количества аффиляций в статьях"
   ]
  },
  {
   "cell_type": "code",
   "execution_count": 142,
   "metadata": {
    "colab": {
     "base_uri": "https://localhost:8080/",
     "height": 206
    },
    "id": "pi9uefcMY0TR",
    "outputId": "3d23a37a-36ff-4788-c7c9-ae4e92ab3056"
   },
   "outputs": [
    {
     "data": {
      "text/html": [
       "\n",
       "  <div id=\"df-29b5db54-8314-4361-ad9a-7bf25bd529d8\">\n",
       "    <div class=\"colab-df-container\">\n",
       "      <div>\n",
       "<style scoped>\n",
       "    .dataframe tbody tr th:only-of-type {\n",
       "        vertical-align: middle;\n",
       "    }\n",
       "\n",
       "    .dataframe tbody tr th {\n",
       "        vertical-align: top;\n",
       "    }\n",
       "\n",
       "    .dataframe thead th {\n",
       "        text-align: right;\n",
       "    }\n",
       "</style>\n",
       "<table border=\"1\" class=\"dataframe\">\n",
       "  <thead>\n",
       "    <tr style=\"text-align: right;\">\n",
       "      <th></th>\n",
       "      <th>journal</th>\n",
       "      <th>title</th>\n",
       "      <th>ISSN</th>\n",
       "      <th>DOI</th>\n",
       "      <th>authors</th>\n",
       "      <th>affilations</th>\n",
       "      <th>date</th>\n",
       "      <th>pages</th>\n",
       "      <th>abstract</th>\n",
       "      <th>raw_url</th>\n",
       "      <th>keywords</th>\n",
       "    </tr>\n",
       "  </thead>\n",
       "  <tbody>\n",
       "    <tr>\n",
       "      <th>94</th>\n",
       "      <td>International Journal of Fluid Power</td>\n",
       "      <td>Foreword</td>\n",
       "      <td>2332-1180</td>\n",
       "      <td>NaN</td>\n",
       "      <td>['Fedor Nazarov']</td>\n",
       "      <td>[]</td>\n",
       "      <td>2021-11-20</td>\n",
       "      <td>1-1</td>\n",
       "      <td>The 17th Scandinavian International Conference...</td>\n",
       "      <td>https://journals.riverpublishers.com/index.php...</td>\n",
       "      <td>['Foreword']</td>\n",
       "    </tr>\n",
       "    <tr>\n",
       "      <th>197</th>\n",
       "      <td>International Journal of Fluid Power</td>\n",
       "      <td>Editorial</td>\n",
       "      <td>2332-1180</td>\n",
       "      <td>NaN</td>\n",
       "      <td>['Jarosław  Stryczek', 'Urszula Warzyńska']</td>\n",
       "      <td>[]</td>\n",
       "      <td>2021-02-06</td>\n",
       "      <td>NaN</td>\n",
       "      <td>Polish fluid power conference has been held in...</td>\n",
       "      <td>https://journals.riverpublishers.com/index.php...</td>\n",
       "      <td>['Editorial']</td>\n",
       "    </tr>\n",
       "  </tbody>\n",
       "</table>\n",
       "</div>\n",
       "      <button class=\"colab-df-convert\" onclick=\"convertToInteractive('df-29b5db54-8314-4361-ad9a-7bf25bd529d8')\"\n",
       "              title=\"Convert this dataframe to an interactive table.\"\n",
       "              style=\"display:none;\">\n",
       "        \n",
       "  <svg xmlns=\"http://www.w3.org/2000/svg\" height=\"24px\"viewBox=\"0 0 24 24\"\n",
       "       width=\"24px\">\n",
       "    <path d=\"M0 0h24v24H0V0z\" fill=\"none\"/>\n",
       "    <path d=\"M18.56 5.44l.94 2.06.94-2.06 2.06-.94-2.06-.94-.94-2.06-.94 2.06-2.06.94zm-11 1L8.5 8.5l.94-2.06 2.06-.94-2.06-.94L8.5 2.5l-.94 2.06-2.06.94zm10 10l.94 2.06.94-2.06 2.06-.94-2.06-.94-.94-2.06-.94 2.06-2.06.94z\"/><path d=\"M17.41 7.96l-1.37-1.37c-.4-.4-.92-.59-1.43-.59-.52 0-1.04.2-1.43.59L10.3 9.45l-7.72 7.72c-.78.78-.78 2.05 0 2.83L4 21.41c.39.39.9.59 1.41.59.51 0 1.02-.2 1.41-.59l7.78-7.78 2.81-2.81c.8-.78.8-2.07 0-2.86zM5.41 20L4 18.59l7.72-7.72 1.47 1.35L5.41 20z\"/>\n",
       "  </svg>\n",
       "      </button>\n",
       "      \n",
       "  <style>\n",
       "    .colab-df-container {\n",
       "      display:flex;\n",
       "      flex-wrap:wrap;\n",
       "      gap: 12px;\n",
       "    }\n",
       "\n",
       "    .colab-df-convert {\n",
       "      background-color: #E8F0FE;\n",
       "      border: none;\n",
       "      border-radius: 50%;\n",
       "      cursor: pointer;\n",
       "      display: none;\n",
       "      fill: #1967D2;\n",
       "      height: 32px;\n",
       "      padding: 0 0 0 0;\n",
       "      width: 32px;\n",
       "    }\n",
       "\n",
       "    .colab-df-convert:hover {\n",
       "      background-color: #E2EBFA;\n",
       "      box-shadow: 0px 1px 2px rgba(60, 64, 67, 0.3), 0px 1px 3px 1px rgba(60, 64, 67, 0.15);\n",
       "      fill: #174EA6;\n",
       "    }\n",
       "\n",
       "    [theme=dark] .colab-df-convert {\n",
       "      background-color: #3B4455;\n",
       "      fill: #D2E3FC;\n",
       "    }\n",
       "\n",
       "    [theme=dark] .colab-df-convert:hover {\n",
       "      background-color: #434B5C;\n",
       "      box-shadow: 0px 1px 3px 1px rgba(0, 0, 0, 0.15);\n",
       "      filter: drop-shadow(0px 1px 2px rgba(0, 0, 0, 0.3));\n",
       "      fill: #FFFFFF;\n",
       "    }\n",
       "  </style>\n",
       "\n",
       "      <script>\n",
       "        const buttonEl =\n",
       "          document.querySelector('#df-29b5db54-8314-4361-ad9a-7bf25bd529d8 button.colab-df-convert');\n",
       "        buttonEl.style.display =\n",
       "          google.colab.kernel.accessAllowed ? 'block' : 'none';\n",
       "\n",
       "        async function convertToInteractive(key) {\n",
       "          const element = document.querySelector('#df-29b5db54-8314-4361-ad9a-7bf25bd529d8');\n",
       "          const dataTable =\n",
       "            await google.colab.kernel.invokeFunction('convertToInteractive',\n",
       "                                                     [key], {});\n",
       "          if (!dataTable) return;\n",
       "\n",
       "          const docLinkHtml = 'Like what you see? Visit the ' +\n",
       "            '<a target=\"_blank\" href=https://colab.research.google.com/notebooks/data_table.ipynb>data table notebook</a>'\n",
       "            + ' to learn more about interactive tables.';\n",
       "          element.innerHTML = '';\n",
       "          dataTable['output_type'] = 'display_data';\n",
       "          await google.colab.output.renderOutput(dataTable, element);\n",
       "          const docLink = document.createElement('div');\n",
       "          docLink.innerHTML = docLinkHtml;\n",
       "          element.appendChild(docLink);\n",
       "        }\n",
       "      </script>\n",
       "    </div>\n",
       "  </div>\n",
       "  "
      ],
      "text/plain": [
       "                                  journal      title       ISSN  DOI  \\\n",
       "94   International Journal of Fluid Power   Foreword  2332-1180  NaN   \n",
       "197  International Journal of Fluid Power  Editorial  2332-1180  NaN   \n",
       "\n",
       "                                         authors affilations        date  \\\n",
       "94                             ['Fedor Nazarov']          []  2021-11-20   \n",
       "197  ['Jarosław  Stryczek', 'Urszula Warzyńska']          []  2021-02-06   \n",
       "\n",
       "    pages                                           abstract  \\\n",
       "94    1-1  The 17th Scandinavian International Conference...   \n",
       "197   NaN  Polish fluid power conference has been held in...   \n",
       "\n",
       "                                               raw_url       keywords  \n",
       "94   https://journals.riverpublishers.com/index.php...   ['Foreword']  \n",
       "197  https://journals.riverpublishers.com/index.php...  ['Editorial']  "
      ]
     },
     "execution_count": 142,
     "metadata": {},
     "output_type": "execute_result"
    }
   ],
   "source": [
    "data[data['affilations'].map(len) == 0]"
   ]
  },
  {
   "cell_type": "code",
   "execution_count": 143,
   "metadata": {
    "id": "mxLpSS8kYFIi"
   },
   "outputs": [],
   "source": [
    "data.drop(data[data['affilations'].map(len) == 0].index, inplace=True)   # убираю строки без аффиляций"
   ]
  },
  {
   "cell_type": "markdown",
   "metadata": {
    "id": "gn8S4cPlcKc6"
   },
   "source": [
    "# создаю общий список всех аффиляций"
   ]
  },
  {
   "cell_type": "code",
   "execution_count": 144,
   "metadata": {
    "colab": {
     "base_uri": "https://localhost:8080/"
    },
    "id": "7EFHN7TKZHG3",
    "outputId": "0ad826b1-6db8-4aab-c71a-cae7c9921c03"
   },
   "outputs": [
    {
     "data": {
      "text/plain": [
       "['Faculty of Engineering and Science, Department of Engineering Sciences, University of Agder, Grimstad, Norway',\n",
       " 'Automation Technology and Mechanical Engineering, Tampere University, Korkeakoulunkatu 6, FI-33720, Tampere, Finland',\n",
       " 'Department of Mechanical Engineering, University of Minnesota, Minneapolis, MN, USA',\n",
       " 'Universidade da Coruña, Centro de Investigación CITIC, Facultade de Informática, A Coruña, Spain',\n",
       " 'Enxenio S.L., A Coruña, Spain',\n",
       " 'The University of Toledo - M.I.M.E. Department, 2801 W. Bancroft St., Toledo, Ohio 43606',\n",
       " 'Northern Arizona University - M.E. Department, 15600 S. McConnell Dr., Flagstaff, Arizona 86001',\n",
       " 'Laboratory of Automation and Hydraulic Engineering (AUT ), Tampere University of Technology (TUT), Tampere, Finland',\n",
       " 'Department of Engineering Design and Production, Aalto University, Espoo, Finland']"
      ]
     },
     "execution_count": 144,
     "metadata": {},
     "output_type": "execute_result"
    }
   ],
   "source": [
    "af = list(np.concatenate(list(data['affilations'])).flat); af[:9]"
   ]
  },
  {
   "cell_type": "code",
   "execution_count": 145,
   "metadata": {
    "colab": {
     "base_uri": "https://localhost:8080/"
    },
    "id": "Xc7Ug3CyqUR-",
    "outputId": "cf9e53ec-5fde-4c24-eeb5-0c6e89904157"
   },
   "outputs": [
    {
     "data": {
      "text/plain": [
       "333"
      ]
     },
     "execution_count": 145,
     "metadata": {},
     "output_type": "execute_result"
    }
   ],
   "source": [
    "len(af) "
   ]
  },
  {
   "cell_type": "markdown",
   "metadata": {
    "id": "ukDwenMPceyJ"
   },
   "source": [
    "## модели"
   ]
  },
  {
   "cell_type": "markdown",
   "metadata": {
    "id": "DfB4DgMgDnu4"
   },
   "source": [
    "# 1-я модель"
   ]
  },
  {
   "cell_type": "code",
   "execution_count": 146,
   "metadata": {
    "id": "joGhwtXvcqqn"
   },
   "outputs": [],
   "source": [
    "from sklearn.feature_extraction.text import TfidfVectorizer \n",
    "from nltk.tokenize import RegexpTokenizer "
   ]
  },
  {
   "cell_type": "code",
   "execution_count": 147,
   "metadata": {
    "id": "C2JlOYkNek01"
   },
   "outputs": [],
   "source": [
    "tokenizer = RegexpTokenizer(r'\\w+') "
   ]
  },
  {
   "cell_type": "code",
   "execution_count": 148,
   "metadata": {
    "id": "vQ8lG6cfdCBm"
   },
   "outputs": [],
   "source": [
    "tf_idf_vect = TfidfVectorizer(lowercase=True,\n",
    "                        stop_words='english',\n",
    "                        ngram_range = (1,1),\n",
    "                        tokenizer = tokenizer.tokenize) "
   ]
  },
  {
   "cell_type": "code",
   "execution_count": 149,
   "metadata": {
    "id": "UIBoYZugdCHm"
   },
   "outputs": [],
   "source": [
    "X_train_counts = tf_idf_vect.fit_transform(af) "
   ]
  },
  {
   "cell_type": "code",
   "execution_count": 150,
   "metadata": {
    "colab": {
     "base_uri": "https://localhost:8080/"
    },
    "id": "ogq7Xu3AdCNk",
    "outputId": "063253c5-769b-4073-c263-b7ae6d2a306c"
   },
   "outputs": [
    {
     "data": {
      "text/plain": [
       "(333, 933)"
      ]
     },
     "execution_count": 150,
     "metadata": {},
     "output_type": "execute_result"
    }
   ],
   "source": [
    "X_train_counts.shape "
   ]
  },
  {
   "cell_type": "code",
   "execution_count": 151,
   "metadata": {
    "id": "mf8esz65cqw5"
   },
   "outputs": [],
   "source": [
    "kmeans = KMeans(n_clusters=100).fit(X_train_counts) "
   ]
  },
  {
   "cell_type": "code",
   "execution_count": 152,
   "metadata": {
    "id": "ZXgMcLwfpRcb"
   },
   "outputs": [],
   "source": [
    "pred_labels = kmeans.labels_ "
   ]
  },
  {
   "cell_type": "code",
   "execution_count": 153,
   "metadata": {
    "colab": {
     "base_uri": "https://localhost:8080/"
    },
    "id": "KMujmchjqKRp",
    "outputId": "d7889d9c-2907-4b47-c437-d1a270249223"
   },
   "outputs": [
    {
     "data": {
      "text/plain": [
       "(333,)"
      ]
     },
     "execution_count": 153,
     "metadata": {},
     "output_type": "execute_result"
    }
   ],
   "source": [
    "pred_labels.shape"
   ]
  },
  {
   "cell_type": "code",
   "execution_count": 154,
   "metadata": {
    "colab": {
     "base_uri": "https://localhost:8080/"
    },
    "id": "qiM_OCgcpRk0",
    "outputId": "253da3e3-3237-4d8f-e817-fa7f4426db78"
   },
   "outputs": [
    {
     "data": {
      "text/plain": [
       "1.5530954060096165"
      ]
     },
     "execution_count": 154,
     "metadata": {},
     "output_type": "execute_result"
    }
   ],
   "source": [
    "# compute DBI score\n",
    "dbi = metrics.davies_bouldin_score(X_train_counts.toarray(), pred_labels); dbi"
   ]
  },
  {
   "cell_type": "code",
   "execution_count": 155,
   "metadata": {
    "colab": {
     "base_uri": "https://localhost:8080/"
    },
    "id": "ZxtleqrspRsj",
    "outputId": "67bbad8a-ab80-4223-930e-170644eeceea"
   },
   "outputs": [
    {
     "data": {
      "text/plain": [
       "0.30744280571348415"
      ]
     },
     "execution_count": 155,
     "metadata": {},
     "output_type": "execute_result"
    }
   ],
   "source": [
    "# compute Silhoutte Score\n",
    "ss = metrics.silhouette_score(X_train_counts.toarray(), pred_labels , metric='euclidean'); ss"
   ]
  },
  {
   "cell_type": "code",
   "execution_count": 156,
   "metadata": {
    "id": "8cGMDvV3pqrv"
   },
   "outputs": [],
   "source": [
    "pairs = dict(zip(af, pred_labels))"
   ]
  },
  {
   "cell_type": "code",
   "execution_count": 157,
   "metadata": {
    "colab": {
     "base_uri": "https://localhost:8080/"
    },
    "id": "BA_gpER1HzVz",
    "outputId": "01f411ef-19b7-444a-85de-8cc6233455bb"
   },
   "outputs": [
    {
     "data": {
      "text/plain": [
       "{'Faculty of Engineering and Science, Department of Engineering Sciences, University of Agder, Grimstad, Norway': 10,\n",
       " 'Automation Technology and Mechanical Engineering, Tampere University, Korkeakoulunkatu 6, FI-33720, Tampere, Finland': 1,\n",
       " 'Department of Mechanical Engineering, University of Minnesota, Minneapolis, MN, USA': 30}"
      ]
     },
     "execution_count": 157,
     "metadata": {},
     "output_type": "execute_result"
    }
   ],
   "source": [
    "import itertools\n",
    "dict(itertools.islice(pairs.items(), 3))"
   ]
  },
  {
   "cell_type": "code",
   "execution_count": 158,
   "metadata": {
    "id": "L03hI3jWG7_4"
   },
   "outputs": [],
   "source": [
    "data['labels'] = data['affilations'].apply(lambda x: list(set([*map(pairs.get, x)])))"
   ]
  },
  {
   "cell_type": "code",
   "execution_count": 159,
   "metadata": {
    "colab": {
     "base_uri": "https://localhost:8080/",
     "height": 514
    },
    "id": "-VUl3NgSIrn6",
    "outputId": "1eb5f32c-822c-4e85-8f1c-ceda15be2fd4"
   },
   "outputs": [
    {
     "data": {
      "text/html": [
       "\n",
       "  <div id=\"df-8097bdab-e334-48bd-9576-86a1820b65d2\">\n",
       "    <div class=\"colab-df-container\">\n",
       "      <div>\n",
       "<style scoped>\n",
       "    .dataframe tbody tr th:only-of-type {\n",
       "        vertical-align: middle;\n",
       "    }\n",
       "\n",
       "    .dataframe tbody tr th {\n",
       "        vertical-align: top;\n",
       "    }\n",
       "\n",
       "    .dataframe thead th {\n",
       "        text-align: right;\n",
       "    }\n",
       "</style>\n",
       "<table border=\"1\" class=\"dataframe\">\n",
       "  <thead>\n",
       "    <tr style=\"text-align: right;\">\n",
       "      <th></th>\n",
       "      <th>title</th>\n",
       "      <th>affilations</th>\n",
       "      <th>labels</th>\n",
       "    </tr>\n",
       "  </thead>\n",
       "  <tbody>\n",
       "    <tr>\n",
       "      <th>0</th>\n",
       "      <td>Novel concept for stabilising a hydraulic circ...</td>\n",
       "      <td>[Faculty of Engineering and Science, Departmen...</td>\n",
       "      <td>[10]</td>\n",
       "    </tr>\n",
       "    <tr>\n",
       "      <th>1</th>\n",
       "      <td>Open-loop Independent Metering Control of a Mu...</td>\n",
       "      <td>[Automation Technology and Mechanical Engineer...</td>\n",
       "      <td>[1]</td>\n",
       "    </tr>\n",
       "    <tr>\n",
       "      <th>2</th>\n",
       "      <td>Modelling and experimental validation of the d...</td>\n",
       "      <td>[Department of Mechanical Engineering, Univers...</td>\n",
       "      <td>[30]</td>\n",
       "    </tr>\n",
       "    <tr>\n",
       "      <th>3</th>\n",
       "      <td>Applying Feature-Oriented Software Development...</td>\n",
       "      <td>[Universidade da Coruña, Centro de Investigaci...</td>\n",
       "      <td>[79]</td>\n",
       "    </tr>\n",
       "    <tr>\n",
       "      <th>4</th>\n",
       "      <td>DESIGN ANALYSIS AND CONTROL OF A MAGNETORHEOLO...</td>\n",
       "      <td>[The University of Toledo - M.I.M.E. Departmen...</td>\n",
       "      <td>[57]</td>\n",
       "    </tr>\n",
       "    <tr>\n",
       "      <th>5</th>\n",
       "      <td>Digital hydraulic multi-pressure actuator – th...</td>\n",
       "      <td>[Laboratory of Automation and Hydraulic Engine...</td>\n",
       "      <td>[1, 46]</td>\n",
       "    </tr>\n",
       "    <tr>\n",
       "      <th>6</th>\n",
       "      <td>REDUCING INFLUENCE OF ECCENTRIC LOAD ON DYNAMI...</td>\n",
       "      <td>[SMC pneumatic technical Center, Mechanical En...</td>\n",
       "      <td>[12]</td>\n",
       "    </tr>\n",
       "    <tr>\n",
       "      <th>7</th>\n",
       "      <td>Model-Driven Skills Assessment in Knowledge Ma...</td>\n",
       "      <td>[Department of Computer Science, University of...</td>\n",
       "      <td>[60]</td>\n",
       "    </tr>\n",
       "    <tr>\n",
       "      <th>8</th>\n",
       "      <td>Method for combining valves with symmetric and...</td>\n",
       "      <td>[LASHIP, Department of Mechanical Engineering,...</td>\n",
       "      <td>[3]</td>\n",
       "    </tr>\n",
       "    <tr>\n",
       "      <th>9</th>\n",
       "      <td>APPLICATION OF EXTENDED KALMAN FILTER IN A MET...</td>\n",
       "      <td>[Rolf Fluid Power Lab, Mechanical and Aerospac...</td>\n",
       "      <td>[17]</td>\n",
       "    </tr>\n",
       "    <tr>\n",
       "      <th>10</th>\n",
       "      <td>A MODIFIED TURBULENT ORIFICE EQUATION APPROACH...</td>\n",
       "      <td>[Department of Mechanical Engineering, Univers...</td>\n",
       "      <td>[21]</td>\n",
       "    </tr>\n",
       "    <tr>\n",
       "      <th>11</th>\n",
       "      <td>Modelling of the influence of entrained and di...</td>\n",
       "      <td>[Institute for Fluid Power Drives and Controls...</td>\n",
       "      <td>[45]</td>\n",
       "    </tr>\n",
       "    <tr>\n",
       "      <th>12</th>\n",
       "      <td>Thermal Coupling Simulation of Electro-Hydrost...</td>\n",
       "      <td>[School of Mechanical Engineering and Automati...</td>\n",
       "      <td>[46, 77, 6]</td>\n",
       "    </tr>\n",
       "    <tr>\n",
       "      <th>13</th>\n",
       "      <td>MECHANICAL MODELLING OF A BENT AXIS PUMP</td>\n",
       "      <td>[Politecnico di Torino - The Fluid Power Resea...</td>\n",
       "      <td>[14]</td>\n",
       "    </tr>\n",
       "    <tr>\n",
       "      <th>14</th>\n",
       "      <td>Adaptive Identification and Application of Flo...</td>\n",
       "      <td>[Institute of Mechatronic Engineering – Chair ...</td>\n",
       "      <td>[58]</td>\n",
       "    </tr>\n",
       "  </tbody>\n",
       "</table>\n",
       "</div>\n",
       "      <button class=\"colab-df-convert\" onclick=\"convertToInteractive('df-8097bdab-e334-48bd-9576-86a1820b65d2')\"\n",
       "              title=\"Convert this dataframe to an interactive table.\"\n",
       "              style=\"display:none;\">\n",
       "        \n",
       "  <svg xmlns=\"http://www.w3.org/2000/svg\" height=\"24px\"viewBox=\"0 0 24 24\"\n",
       "       width=\"24px\">\n",
       "    <path d=\"M0 0h24v24H0V0z\" fill=\"none\"/>\n",
       "    <path d=\"M18.56 5.44l.94 2.06.94-2.06 2.06-.94-2.06-.94-.94-2.06-.94 2.06-2.06.94zm-11 1L8.5 8.5l.94-2.06 2.06-.94-2.06-.94L8.5 2.5l-.94 2.06-2.06.94zm10 10l.94 2.06.94-2.06 2.06-.94-2.06-.94-.94-2.06-.94 2.06-2.06.94z\"/><path d=\"M17.41 7.96l-1.37-1.37c-.4-.4-.92-.59-1.43-.59-.52 0-1.04.2-1.43.59L10.3 9.45l-7.72 7.72c-.78.78-.78 2.05 0 2.83L4 21.41c.39.39.9.59 1.41.59.51 0 1.02-.2 1.41-.59l7.78-7.78 2.81-2.81c.8-.78.8-2.07 0-2.86zM5.41 20L4 18.59l7.72-7.72 1.47 1.35L5.41 20z\"/>\n",
       "  </svg>\n",
       "      </button>\n",
       "      \n",
       "  <style>\n",
       "    .colab-df-container {\n",
       "      display:flex;\n",
       "      flex-wrap:wrap;\n",
       "      gap: 12px;\n",
       "    }\n",
       "\n",
       "    .colab-df-convert {\n",
       "      background-color: #E8F0FE;\n",
       "      border: none;\n",
       "      border-radius: 50%;\n",
       "      cursor: pointer;\n",
       "      display: none;\n",
       "      fill: #1967D2;\n",
       "      height: 32px;\n",
       "      padding: 0 0 0 0;\n",
       "      width: 32px;\n",
       "    }\n",
       "\n",
       "    .colab-df-convert:hover {\n",
       "      background-color: #E2EBFA;\n",
       "      box-shadow: 0px 1px 2px rgba(60, 64, 67, 0.3), 0px 1px 3px 1px rgba(60, 64, 67, 0.15);\n",
       "      fill: #174EA6;\n",
       "    }\n",
       "\n",
       "    [theme=dark] .colab-df-convert {\n",
       "      background-color: #3B4455;\n",
       "      fill: #D2E3FC;\n",
       "    }\n",
       "\n",
       "    [theme=dark] .colab-df-convert:hover {\n",
       "      background-color: #434B5C;\n",
       "      box-shadow: 0px 1px 3px 1px rgba(0, 0, 0, 0.15);\n",
       "      filter: drop-shadow(0px 1px 2px rgba(0, 0, 0, 0.3));\n",
       "      fill: #FFFFFF;\n",
       "    }\n",
       "  </style>\n",
       "\n",
       "      <script>\n",
       "        const buttonEl =\n",
       "          document.querySelector('#df-8097bdab-e334-48bd-9576-86a1820b65d2 button.colab-df-convert');\n",
       "        buttonEl.style.display =\n",
       "          google.colab.kernel.accessAllowed ? 'block' : 'none';\n",
       "\n",
       "        async function convertToInteractive(key) {\n",
       "          const element = document.querySelector('#df-8097bdab-e334-48bd-9576-86a1820b65d2');\n",
       "          const dataTable =\n",
       "            await google.colab.kernel.invokeFunction('convertToInteractive',\n",
       "                                                     [key], {});\n",
       "          if (!dataTable) return;\n",
       "\n",
       "          const docLinkHtml = 'Like what you see? Visit the ' +\n",
       "            '<a target=\"_blank\" href=https://colab.research.google.com/notebooks/data_table.ipynb>data table notebook</a>'\n",
       "            + ' to learn more about interactive tables.';\n",
       "          element.innerHTML = '';\n",
       "          dataTable['output_type'] = 'display_data';\n",
       "          await google.colab.output.renderOutput(dataTable, element);\n",
       "          const docLink = document.createElement('div');\n",
       "          docLink.innerHTML = docLinkHtml;\n",
       "          element.appendChild(docLink);\n",
       "        }\n",
       "      </script>\n",
       "    </div>\n",
       "  </div>\n",
       "  "
      ],
      "text/plain": [
       "                                                title  \\\n",
       "0   Novel concept for stabilising a hydraulic circ...   \n",
       "1   Open-loop Independent Metering Control of a Mu...   \n",
       "2   Modelling and experimental validation of the d...   \n",
       "3   Applying Feature-Oriented Software Development...   \n",
       "4   DESIGN ANALYSIS AND CONTROL OF A MAGNETORHEOLO...   \n",
       "5   Digital hydraulic multi-pressure actuator – th...   \n",
       "6   REDUCING INFLUENCE OF ECCENTRIC LOAD ON DYNAMI...   \n",
       "7   Model-Driven Skills Assessment in Knowledge Ma...   \n",
       "8   Method for combining valves with symmetric and...   \n",
       "9   APPLICATION OF EXTENDED KALMAN FILTER IN A MET...   \n",
       "10  A MODIFIED TURBULENT ORIFICE EQUATION APPROACH...   \n",
       "11  Modelling of the influence of entrained and di...   \n",
       "12  Thermal Coupling Simulation of Electro-Hydrost...   \n",
       "13           MECHANICAL MODELLING OF A BENT AXIS PUMP   \n",
       "14  Adaptive Identification and Application of Flo...   \n",
       "\n",
       "                                          affilations       labels  \n",
       "0   [Faculty of Engineering and Science, Departmen...         [10]  \n",
       "1   [Automation Technology and Mechanical Engineer...          [1]  \n",
       "2   [Department of Mechanical Engineering, Univers...         [30]  \n",
       "3   [Universidade da Coruña, Centro de Investigaci...         [79]  \n",
       "4   [The University of Toledo - M.I.M.E. Departmen...         [57]  \n",
       "5   [Laboratory of Automation and Hydraulic Engine...      [1, 46]  \n",
       "6   [SMC pneumatic technical Center, Mechanical En...         [12]  \n",
       "7   [Department of Computer Science, University of...         [60]  \n",
       "8   [LASHIP, Department of Mechanical Engineering,...          [3]  \n",
       "9   [Rolf Fluid Power Lab, Mechanical and Aerospac...         [17]  \n",
       "10  [Department of Mechanical Engineering, Univers...         [21]  \n",
       "11  [Institute for Fluid Power Drives and Controls...         [45]  \n",
       "12  [School of Mechanical Engineering and Automati...  [46, 77, 6]  \n",
       "13  [Politecnico di Torino - The Fluid Power Resea...         [14]  \n",
       "14  [Institute of Mechatronic Engineering – Chair ...         [58]  "
      ]
     },
     "execution_count": 159,
     "metadata": {},
     "output_type": "execute_result"
    }
   ],
   "source": [
    "data.iloc[:, [1, 5, 11]].head(15)   # лейблы кластеров проставлены "
   ]
  },
  {
   "cell_type": "markdown",
   "metadata": {
    "id": "py6HbxlADsXC"
   },
   "source": [
    "# 2-я модель"
   ]
  },
  {
   "cell_type": "code",
   "execution_count": 160,
   "metadata": {
    "colab": {
     "base_uri": "https://localhost:8080/"
    },
    "id": "VBm-xX_Apq7t",
    "outputId": "9d898e1f-1f35-4dd9-a9b1-2b94b5f91f9e"
   },
   "outputs": [
    {
     "data": {
      "text/plain": [
       "(333, 938)"
      ]
     },
     "execution_count": 160,
     "metadata": {},
     "output_type": "execute_result"
    }
   ],
   "source": [
    "vect = CountVectorizer()\n",
    "bow = vect.fit_transform(af)\n",
    "bow.shape "
   ]
  },
  {
   "cell_type": "code",
   "execution_count": 161,
   "metadata": {
    "colab": {
     "base_uri": "https://localhost:8080/"
    },
    "id": "48k3nddtprDz",
    "outputId": "0be7f1ba-846d-4845-a0f1-39e54a62852c"
   },
   "outputs": [
    {
     "data": {
      "text/plain": [
       "<333x938 sparse matrix of type '<class 'numpy.int64'>'\n",
       "\twith 3656 stored elements in Compressed Sparse Row format>"
      ]
     },
     "execution_count": 161,
     "metadata": {},
     "output_type": "execute_result"
    }
   ],
   "source": [
    "bow"
   ]
  },
  {
   "cell_type": "code",
   "execution_count": 162,
   "metadata": {
    "colab": {
     "base_uri": "https://localhost:8080/"
    },
    "id": "K2KUvNWsDyvX",
    "outputId": "5704bc85-45dd-417b-89a4-ec93d22b56a4"
   },
   "outputs": [
    {
     "data": {
      "text/plain": [
       "array(['aerospace', 'ag', 'agder', 'agency', 'agricultural', 'ain',\n",
       "       'ainstitute', 'airbus', 'aircraft', 'allison', 'altenbergerstr',\n",
       "       'altenbergerstrasse', 'ambiente', 'american', 'ames', 'amsterdam',\n",
       "       'and', 'anglet', 'applications', 'applied'], dtype=object)"
      ]
     },
     "execution_count": 162,
     "metadata": {},
     "output_type": "execute_result"
    }
   ],
   "source": [
    "terms = vect.get_feature_names_out()\n",
    "terms[150:170]"
   ]
  },
  {
   "cell_type": "code",
   "execution_count": 162,
   "metadata": {
    "id": "Q9ZzMug89O0C"
   },
   "outputs": [],
   "source": []
  },
  {
   "cell_type": "code",
   "execution_count": null,
   "metadata": {},
   "outputs": [],
   "source": []
  }
 ],
 "metadata": {
  "colab": {
   "provenance": []
  },
  "kernelspec": {
   "display_name": "Python 3",
   "language": "python",
   "name": "python3"
  },
  "language_info": {
   "codemirror_mode": {
    "name": "ipython",
    "version": 3
   },
   "file_extension": ".py",
   "mimetype": "text/x-python",
   "name": "python",
   "nbconvert_exporter": "python",
   "pygments_lexer": "ipython3",
   "version": "3.8.8"
  }
 },
 "nbformat": 4,
 "nbformat_minor": 1
}
